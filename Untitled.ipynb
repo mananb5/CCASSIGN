{
 "cells": [
  {
   "cell_type": "code",
   "execution_count": 15,
   "metadata": {},
   "outputs": [],
   "source": [
    "import numpy as np # linear algebra\n",
    "import pandas as pd # data processing, CSV file I/O (e.g. pd.read_csv)\n",
    "#import matplotlib.pyplot as plt\n",
    "#import seaborn as sns \n",
    "#import altair as alt \n",
    "\n",
    "# Input data files are available in the \"../input/\" directory.\n",
    "# For example, running this (by clicking run or pressing Shift+Enter) will list the files in the input directory\n",
    "\n",
    "#import os\n",
    "#print(os.listdir(\"../input\"))"
   ]
  },
  {
   "cell_type": "code",
   "execution_count": null,
   "metadata": {},
   "outputs": [],
   "source": []
  },
  {
   "cell_type": "code",
   "execution_count": 16,
   "metadata": {},
   "outputs": [],
   "source": [
    "train = pd.read_csv('sales_train.csv')\n",
    "items = pd.read_csv('items.csv')\n",
    "categories = pd.read_csv('item_categories.csv')\n",
    "shops = pd.read_csv('shops.csv')\n",
    "test = pd.read_csv('test.csv')\n",
    "submission = pd.read_csv('sample_submission.csv')"
   ]
  },
  {
   "cell_type": "code",
   "execution_count": 17,
   "metadata": {},
   "outputs": [
    {
     "name": "stderr",
     "output_type": "stream",
     "text": [
      "c:\\users\\neera\\anaconda3\\envs\\myenv\\lib\\site-packages\\ipykernel_launcher.py:38: SettingWithCopyWarning: \n",
      "A value is trying to be set on a copy of a slice from a DataFrame\n",
      "\n",
      "See the caveats in the documentation: https://pandas.pydata.org/pandas-docs/stable/user_guide/indexing.html#returning-a-view-versus-a-copy\n",
      "c:\\users\\neera\\anaconda3\\envs\\myenv\\lib\\site-packages\\ipykernel_launcher.py:42: SettingWithCopyWarning: \n",
      "A value is trying to be set on a copy of a slice from a DataFrame\n",
      "\n",
      "See the caveats in the documentation: https://pandas.pydata.org/pandas-docs/stable/user_guide/indexing.html#returning-a-view-versus-a-copy\n",
      "c:\\users\\neera\\anaconda3\\envs\\myenv\\lib\\site-packages\\ipykernel_launcher.py:45: SettingWithCopyWarning: \n",
      "A value is trying to be set on a copy of a slice from a DataFrame\n",
      "\n",
      "See the caveats in the documentation: https://pandas.pydata.org/pandas-docs/stable/user_guide/indexing.html#returning-a-view-versus-a-copy\n",
      "c:\\users\\neera\\anaconda3\\envs\\myenv\\lib\\site-packages\\ipykernel_launcher.py:49: SettingWithCopyWarning: \n",
      "A value is trying to be set on a copy of a slice from a DataFrame\n",
      "\n",
      "See the caveats in the documentation: https://pandas.pydata.org/pandas-docs/stable/user_guide/indexing.html#returning-a-view-versus-a-copy\n",
      "c:\\users\\neera\\anaconda3\\envs\\myenv\\lib\\site-packages\\ipykernel_launcher.py:53: SettingWithCopyWarning: \n",
      "A value is trying to be set on a copy of a slice from a DataFrame\n",
      "\n",
      "See the caveats in the documentation: https://pandas.pydata.org/pandas-docs/stable/user_guide/indexing.html#returning-a-view-versus-a-copy\n",
      "c:\\users\\neera\\anaconda3\\envs\\myenv\\lib\\site-packages\\ipykernel_launcher.py:57: SettingWithCopyWarning: \n",
      "A value is trying to be set on a copy of a slice from a DataFrame\n",
      "\n",
      "See the caveats in the documentation: https://pandas.pydata.org/pandas-docs/stable/user_guide/indexing.html#returning-a-view-versus-a-copy\n"
     ]
    }
   ],
   "source": [
    "train.drop(['date'],axis =1, inplace=True)\n",
    "train['data_origin'] = 'train'\n",
    "\n",
    "test['data_origin'] = 'test'\n",
    "test['date_block_num'] = 34\n",
    "categories['item_category_name2']= categories['item_category_name'].str.split('-').apply(lambda x : x[0])\n",
    "shops['shop_city'] = shops['shop_name'].str.split(\" \").apply(lambda x : x[0])\n",
    "\n",
    "medium_prices_for_shops = train.groupby(['shop_id','item_id'], as_index = False)['item_price'].mean()\n",
    "test = pd.merge(test, medium_prices_for_shops, how = 'left', on = ['shop_id','item_id'])\n",
    "\n",
    "items = pd.merge(items,categories,how ='left',on ='item_category_id')\n",
    "\n",
    "item_medium_price = train.groupby(['item_id'],as_index = False)['item_price'].mean()\n",
    "\n",
    "items= pd.merge(items,item_medium_price,on ='item_id',how= 'left')\n",
    "items_category_name2_medium_price = items.groupby(['item_category_name2'],as_index=False)['item_price'].mean()\n",
    "items = pd.merge(items, items_category_name2_medium_price, how= 'left', on = 'item_category_name2')\n",
    "\n",
    "items.rename(columns = {'item_price_x':'item_medium_price', 'item_price_y':'item_medium_price_category2'}, inplace = True)\n",
    "test['item_price'].fillna(value = items['item_medium_price_category2'],inplace = True)\n",
    "\n",
    "test['item_cnt_day'] = 0\n",
    "\n",
    "\n",
    "# grouping data at the level of month for sales_train\n",
    "\n",
    "sales_train_aggregated = train.groupby(['date_block_num','shop_id','item_id','item_price','data_origin'],as_index= False)['item_cnt_day'].sum()\n",
    "\n",
    "#test.drop(columns ='ID',axis =1, inplace = True)\n",
    "\n",
    "data_concatenated  = sales_train_aggregated.append(test, ignore_index = True, sort = False)\n",
    "\n",
    "data_concatenated.sort_values(by = ['shop_id','item_id','date_block_num'], ascending = True, inplace = True)\n",
    "\n",
    "data_concatenated['diff1'] = data_concatenated['item_cnt_day'].diff(periods =1)\n",
    "mask = data_concatenated.item_id != data_concatenated.item_id.shift(1)\n",
    "data_concatenated['diff1'][mask] = np.nan\n",
    "\n",
    "data_concatenated['diff2'] = data_concatenated['item_cnt_day'].diff(periods =2)\n",
    "mask = data_concatenated.item_id != data_concatenated.item_id.shift(1)\n",
    "data_concatenated['diff2'][mask] = np.nan\n",
    "data_concatenated['diff3'] = data_concatenated['item_cnt_day'].diff(periods =3)\n",
    "mask = data_concatenated.item_id != data_concatenated.item_id.shift(1)\n",
    "data_concatenated['diff3'][mask] = np.nan\n",
    "\n",
    "data_concatenated['diff4'] = data_concatenated['item_cnt_day'].diff(periods =4)\n",
    "mask = data_concatenated.item_id != data_concatenated.item_id.shift(1)\n",
    "data_concatenated['diff4'][mask] = np.nan\n",
    "\n",
    "data_concatenated['diff5'] = data_concatenated['item_cnt_day'].diff(periods =5)\n",
    "mask = data_concatenated.item_id != data_concatenated.item_id.shift(1)\n",
    "data_concatenated['diff5'][mask] = np.nan\n",
    "\n",
    "data_concatenated['diff6'] = data_concatenated['item_cnt_day'].diff(periods =6)\n",
    "mask = data_concatenated.item_id != data_concatenated.item_id.shift(1)\n",
    "data_concatenated['diff6'][mask] = np.nan\n",
    "\n",
    "data_concatenated.fillna(value = 0, inplace = True)\n",
    "\n",
    "data_concatenated.merge(items[['item_id','item_category_id']], on = 'item_id' , how = 'left')\n",
    "\n",
    "from sklearn.linear_model import LinearRegression\n",
    "y_train  = data_concatenated[data_concatenated['data_origin'] == 'train']['item_cnt_day']\n",
    "x_col  =  [col for col in data_concatenated.columns if col not in ['data_origin','item_cnt_day','ID']] \n",
    "\n",
    "\n",
    "x_train = data_concatenated[data_concatenated['data_origin'] == 'train'][x_col]\n",
    "reg = LinearRegression().fit(x_train,y_train)\n",
    "\n",
    "x_test = data_concatenated[data_concatenated['data_origin'] == 'test'][x_col]\n",
    "y_pred = reg.predict(x_test)\n",
    "\n",
    "\n",
    "my_submission = pd.DataFrame({'ID':test.ID, 'item_cnt_month':y_pred})\n",
    "\n",
    "my_submission.to_csv('submission.csv', index=False)"
   ]
  },
  {
   "cell_type": "code",
   "execution_count": null,
   "metadata": {},
   "outputs": [],
   "source": []
  },
  {
   "cell_type": "code",
   "execution_count": 18,
   "metadata": {},
   "outputs": [],
   "source": [
    "import pickle\n",
    "file = open('abc.pkl','wb')\n",
    "pickle.dump(reg,file)"
   ]
  },
  {
   "cell_type": "code",
   "execution_count": null,
   "metadata": {},
   "outputs": [],
   "source": []
  },
  {
   "cell_type": "code",
   "execution_count": null,
   "metadata": {},
   "outputs": [],
   "source": []
  },
  {
   "cell_type": "code",
   "execution_count": null,
   "metadata": {},
   "outputs": [],
   "source": []
  }
 ],
 "metadata": {
  "kernelspec": {
   "display_name": "Python 3",
   "language": "python",
   "name": "python3"
  },
  "language_info": {
   "codemirror_mode": {
    "name": "ipython",
    "version": 3
   },
   "file_extension": ".py",
   "mimetype": "text/x-python",
   "name": "python",
   "nbconvert_exporter": "python",
   "pygments_lexer": "ipython3",
   "version": "3.6.12"
  }
 },
 "nbformat": 4,
 "nbformat_minor": 4
}
